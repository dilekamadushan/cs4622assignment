{
 "cells": [
  {
   "cell_type": "code",
   "execution_count": 1,
   "metadata": {
    "collapsed": true
   },
   "outputs": [],
   "source": [
    "import pandas as pd\n",
    "import seaborn as sns\n",
    "import matplotlib.pyplot as plt\n",
    "\n",
    "%matplotlib inline"
   ]
  },
  {
   "cell_type": "code",
   "execution_count": 2,
   "metadata": {
    "scrolled": true
   },
   "outputs": [
    {
     "data": {
      "image/png": "[encoded data removed]",
      "text/plain": [
       "<matplotlib.figure.Figure at 0x7f8fd349eb50>"
      ]
     },
     "metadata": {},
     "output_type": "display_data"
    }
   ],
   "source": [
    "y = pd.read_csv(\"./dengue_labels_train.csv\")\n",
    "sns.distplot(y.total_cases)\n",
    "plt.show()"
   ]
  },
  {
   "cell_type": "code",
   "execution_count": 3,
   "metadata": {},
   "outputs": [
    {
     "name": "stderr",
     "output_type": "stream",
     "text": [
      "/home/dileka/anaconda2/lib/python2.7/site-packages/statsmodels/compat/pandas.py:56: FutureWarning: The pandas.core.datetools module is deprecated and will be removed in a future version. Please use the pandas.tseries module instead.\n",
      "  from pandas.core import datetools\n"
     ]
    }
   ],
   "source": [
    "import statsmodels.api as sm\n",
    "\n",
    "from warnings import filterwarnings\n",
    "\n",
    "filterwarnings('ignore')\n",
    "\n",
    "from statsmodels.tools import eval_measures\n",
    "import statsmodels.formula.api as smf"
   ]
  },
  {
   "cell_type": "code",
   "execution_count": 4,
   "metadata": {
    "collapsed": true
   },
   "outputs": [],
   "source": [
    "import numpy as np\n",
    "\n",
    "from sklearn.model_selection import train_test_split\n",
    "# from sklearn.feature_selection import RFE\n",
    "\n",
    "from sklearn.metrics import mean_absolute_error\n",
    "from sklearn.metrics import median_absolute_error\n",
    "from sklearn.model_selection import ParameterGrid\n",
    "from sklearn.model_selection import TimeSeriesSplit\n",
    "from sklearn.preprocessing import StandardScaler\n",
    "\n",
    "from scipy import stats\n",
    "\n",
    "from xgboost import XGBRegressor\n",
    "\n",
    "from sklearn.model_selection import cross_val_score\n",
    "from sklearn.metrics import make_scorer\n",
    "\n",
    "from sklearn.feature_selection import f_regression\n",
    "from sklearn.feature_selection import SelectKBest"
   ]
  },
  {
   "cell_type": "code",
   "execution_count": 5,
   "metadata": {
    "collapsed": true
   },
   "outputs": [],
   "source": [
    "from mlxtend.feature_selection import SequentialFeatureSelector as SFS"
   ]
  },
  {
   "cell_type": "code",
   "execution_count": 6,
   "metadata": {
    "collapsed": true
   },
   "outputs": [],
   "source": [
    "def impute(X):\n",
    "    \n",
    "    # remove the colum that has ~20% null values, also ranks low on feature importance\n",
    "    X.drop(['ndvi_ne'], axis=1, inplace=True)\n",
    "    \n",
    "    # Filling the rest using linear interpolation\n",
    "    X.interpolate(inplace=True)\n",
    "\n",
    "\n",
    "def remove_outliers(df):\n",
    "    return df[(np.abs(stats.zscore(df)) < 5).all(axis=1)]\n",
    "\n",
    "def mape(Y_test, Y_pred, epsilon = 1):\n",
    "    return np.mean(np.abs((Y_test - Y_pred + epsilon) / (Y_test + epsilon))) * 100\n",
    "\n",
    "def extract_month(s):\n",
    "    return int(s[5:7])\n",
    "\n",
    "def city_indices(X):\n",
    "    # city boolean encoding\n",
    "    return X.city == 'sj'\n",
    "\n",
    "def pre_process(X, y, trees = False):\n",
    "    \"\"\"\n",
    "    Extracts the month out of date and converts it to a one hot\n",
    "    Standardizes the numerical features\n",
    "    \"\"\"\n",
    "    \n",
    "    #Extracting month from the date\n",
    "    months = X.week_start_date.apply(extract_month)\n",
    "    \n",
    "     # Month i hot features\n",
    "    month_features = pd.get_dummies(months, prefix='m_')\n",
    "    X = X.join(month_features)\n",
    "    \n",
    "    #Response coding\n",
    "#     month = X.week_start_date.apply(extract_month)\n",
    "#     temp = pd.DataFrame(y.total_cases)\n",
    "#     temp['month'] = month\n",
    "#     for name,group in temp.groupby(month):\n",
    "#         month[group.index] = np.median(group.total_cases)\n",
    "        \n",
    "    # Removing the columns not required for classification\n",
    "    X.drop(['city', 'year', 'weekofyear', 'week_start_date'], axis=1, inplace=True)\n",
    "\n",
    "    # Standardizing the data\n",
    "    if not trees:\n",
    "        scaler = StandardScaler()\n",
    "        #X[X.columns] = scaler.fit_transform(X)\n",
    "\n",
    "   \n",
    "\n",
    "    #Alternatively use response coding \n",
    "#     X = X.join(month)\n",
    "    \n",
    "    return X"
   ]
  },
  {
   "cell_type": "code",
   "execution_count": 7,
   "metadata": {
    "collapsed": true
   },
   "outputs": [],
   "source": [
    "def seperate_cities_data(X, is_sj):\n",
    "\n",
    "    # Seperating the cities data\n",
    "    X_sj = X.loc[is_sj]\n",
    "    X_iq = X.loc[~is_sj]\n",
    "    \n",
    "    return X_sj, X_iq\n",
    "\n",
    "def get_y_labels(X_sj, X_iq, y):    \n",
    "    \n",
    "    y = y.total_cases    \n",
    "    y_sj = y.loc[X_sj.index]\n",
    "    y_iq = y.loc[X_iq.index]\n",
    "    \n",
    "    return y_sj, y_iq\n",
    "\n",
    "def split(X_sj, X_iq, y_sj, y_iq):\n",
    "\n",
    "    # train and test split\n",
    "    sj_split_data = train_test_split(X_sj, y_sj, shuffle = False)\n",
    "    iq_split_data = train_test_split(X_iq, y_iq, shuffle = False)\n",
    "    return sj_split_data, iq_split_data\n",
    "\n",
    "def process(X, y = pd.Series(), train = True, trees = False, feature_selection = 0, time_shift = 0):\n",
    "    \n",
    "    is_sj = city_indices(X)\n",
    "    if not trees:\n",
    "        impute(X)\n",
    "    X = pre_process(X, y, trees)\n",
    "    \n",
    "    if feature_selection:\n",
    "        selector = SelectKBest(f_regression, k=feature_selection).fit(X,y.total_cases)\n",
    "        X = X.loc[:,selector.get_support()]\n",
    "\n",
    "    X = remove_outliers(X)\n",
    "    X_sj, X_iq = seperate_cities_data(X, is_sj)\n",
    "\n",
    "    if y.empty:\n",
    "        return X_sj, X_iq\n",
    "    \n",
    "    y_sj, y_iq = get_y_labels(X_sj, X_iq, y)\n",
    "    if time_shift:\n",
    "        y_sj = y_sj.shift(time_shift).dropna()\n",
    "        y_iq = y_iq.shift(time_shift).dropna()\n",
    "        X_sj = X_sj[:-time_shift]\n",
    "        X_iq = X_iq[:-time_shift]\n",
    "        \n",
    "    if not train:\n",
    "        return X_sj, X_iq, y_sj, y_iq\n",
    "    \n",
    "    return split(X_sj, X_iq, y_sj, y_iq)"
   ]
  },
  {
   "cell_type": "code",
   "execution_count": 8,
   "metadata": {
    "collapsed": true
   },
   "outputs": [],
   "source": [
    "def testProcess(X, y = pd.Series(), train = True, trees = False, feature_selection = 0, time_shift = 0):\n",
    "    \n",
    "    is_sj = city_indices(X)\n",
    "    if not trees:\n",
    "        impute(X)\n",
    "    X = pre_process(X, y, trees)\n",
    "    \n",
    "   \n",
    "\n",
    "    #X = remove_outliers(X)\n",
    "    X_sj, X_iq = seperate_cities_data(X, is_sj)\n",
    "    \n",
    "    return X_sj, X_iq"
   ]
  },
  {
   "cell_type": "code",
   "execution_count": 9,
   "metadata": {
    "collapsed": true
   },
   "outputs": [],
   "source": [
    "X = pd.read_csv(\"./dengue_features_train.csv\")\n",
    "data = process(X,y)\n",
    "\n",
    "\n",
    "(X_sj_train, X_sj_test, Y_sj_train, Y_sj_test), (X_iq_train, X_iq_test, Y_iq_train, Y_iq_test) = data\n",
    "\n"
   ]
  },
  {
   "cell_type": "code",
   "execution_count": 10,
   "metadata": {},
   "outputs": [
    {
     "name": "stdout",
     "output_type": "stream",
     "text": [
      "y ~ ndvi_nw + ndvi_se + ndvi_sw + precipitation_amt_mm + reanalysis_air_temp_k + reanalysis_avg_temp_k + reanalysis_dew_point_temp_k + reanalysis_max_air_temp_k + reanalysis_min_air_temp_k + reanalysis_precip_amt_kg_per_m2 + reanalysis_relative_humidity_percent + reanalysis_sat_precip_amt_mm + reanalysis_specific_humidity_g_per_kg + reanalysis_tdtr_k + station_avg_temp_c + station_diur_temp_rng_c + station_max_temp_c + station_min_temp_c + station_precip_mm + m__1 + m__2 + m__3 + m__4 + m__5 + m__6 + m__7 + m__8 + m__9 + m__10 + m__11 + m__12\n"
     ]
    }
   ],
   "source": [
    "formula = ' + '.join([str(i) for i in list(X_sj_train.columns)])\n",
    "formula = 'y ~ ' + formula\n",
    "print formula"
   ]
  },
  {
   "cell_type": "code",
   "execution_count": 11,
   "metadata": {},
   "outputs": [
    {
     "name": "stdout",
     "output_type": "stream",
     "text": [
      "      ndvi_nw   ndvi_se   ndvi_sw  precipitation_amt_mm  \\\n",
      "0    0.103725  0.198483  0.177617                 12.42   \n",
      "1    0.142175  0.162357  0.155486                 22.82   \n",
      "2    0.172967  0.157200  0.170843                 34.54   \n",
      "3    0.245067  0.227557  0.235886                 15.36   \n",
      "4    0.262200  0.251200  0.247340                  7.52   \n",
      "5    0.174850  0.254314  0.181743                  9.58   \n",
      "6    0.092800  0.205071  0.210271                  3.48   \n",
      "7    0.072500  0.151471  0.133029                151.12   \n",
      "8    0.146175  0.125571  0.123600                 19.32   \n",
      "9    0.121550  0.160683  0.202567                 14.41   \n",
      "10   0.082350  0.191943  0.152929                 22.27   \n",
      "11   0.211800  0.301200  0.280667                 59.17   \n",
      "12   0.171700  0.226900  0.214557                 16.48   \n",
      "13   0.247150  0.379700  0.381357                 32.66   \n",
      "14   0.064333  0.164443  0.138857                 28.80   \n",
      "15   0.128033  0.206957  0.168243                 90.75   \n",
      "16   0.168800  0.167657  0.172286                 32.40   \n",
      "17   0.330750  0.264171  0.284314                 40.94   \n",
      "18   0.200025  0.283817  0.230443                 28.86   \n",
      "19   0.437100  0.123400  0.148283                 64.56   \n",
      "20   0.182433  0.254829  0.305686                143.73   \n",
      "21   0.260900  0.199443  0.244217                 51.39   \n",
      "22   0.189750  0.212486  0.201186                 31.18   \n",
      "23   0.067550  0.179467  0.157717                 51.42   \n",
      "25   0.089750  0.128829  0.123929                127.03   \n",
      "26   0.183433  0.318000  0.295900                101.35   \n",
      "27   0.181775  0.178329  0.186629                 20.46   \n",
      "28   0.224600  0.180386  0.234886                 20.00   \n",
      "29   0.330350  0.131633  0.125383                 20.04   \n",
      "30   0.216525  0.176786  0.141586                 33.61   \n",
      "..        ...       ...       ...                   ...   \n",
      "671 -0.091575  0.152729  0.186771                  0.00   \n",
      "672 -0.050850  0.129800  0.121429                  0.00   \n",
      "673  0.098967  0.151500  0.139543                 38.52   \n",
      "674 -0.002900  0.074643  0.095571                  5.96   \n",
      "676  0.035500  0.251271  0.212071                 26.56   \n",
      "677  0.072125  0.265683  0.238214                 16.65   \n",
      "678 -0.043200  0.168757  0.172543                 10.86   \n",
      "679  0.004100  0.152614  0.124357                 60.93   \n",
      "680 -0.007567  0.195914  0.178057                111.70   \n",
      "681  0.062767  0.197457  0.175000                  9.10   \n",
      "682  0.055875  0.109350  0.098714                 18.25   \n",
      "683  0.048400  0.173043  0.136986                 39.21   \n",
      "684 -0.052450  0.118271  0.159729                 17.92   \n",
      "685  0.025750  0.208386  0.208557                  0.00   \n",
      "686  0.296000  0.191686  0.175000                 10.83   \n",
      "687 -0.112667  0.224871  0.186900                 62.57   \n",
      "688  0.066100  0.161857  0.156171                  0.00   \n",
      "689 -0.035650  0.158033  0.192000                 41.92   \n",
      "690  0.036333  0.207786  0.210671                 28.00   \n",
      "691  0.031700  0.222571  0.203986                 11.37   \n",
      "692  0.051900  0.161729  0.157814                 42.46   \n",
      "693  0.100000  0.204371  0.160357                 98.68   \n",
      "694  0.043240  0.203629  0.240929                 86.40   \n",
      "695 -0.013520  0.240700  0.241929                 16.81   \n",
      "696  0.086425  0.248900  0.224743                 38.70   \n",
      "697  0.097250  0.254571  0.211914                 99.61   \n",
      "698  0.015100  0.217486  0.208814                 78.94   \n",
      "699  0.032750  0.163443  0.110371                  0.61   \n",
      "700  0.037100  0.243400  0.267729                118.50   \n",
      "701  0.055300  0.169929  0.128171                 20.44   \n",
      "\n",
      "     reanalysis_air_temp_k  reanalysis_avg_temp_k  \\\n",
      "0               297.572857             297.742857   \n",
      "1               298.211429             298.442857   \n",
      "2               298.781429             298.878571   \n",
      "3               298.987143             299.228571   \n",
      "4               299.518571             299.664286   \n",
      "5               299.630000             299.764286   \n",
      "6               299.207143             299.221429   \n",
      "7               299.591429             299.528571   \n",
      "8               299.578571             299.557143   \n",
      "9               300.154286             300.278571   \n",
      "10              299.512857             299.592857   \n",
      "11              299.667143             299.750000   \n",
      "12              299.558571             299.635714   \n",
      "13              299.862857             299.950000   \n",
      "14              300.391429             300.478571   \n",
      "15              299.958571             299.957143   \n",
      "16              300.332857             300.414286   \n",
      "17              300.118571             300.221429   \n",
      "18              300.530000             300.635714   \n",
      "19              300.674286             300.792857   \n",
      "20              299.857143             299.900000   \n",
      "21              300.427143             300.600000   \n",
      "22              300.775714             300.850000   \n",
      "23              299.857143             299.942857   \n",
      "25              298.902857             299.042857   \n",
      "26              299.727143             299.778571   \n",
      "27              299.972857             300.035714   \n",
      "28              300.350000             300.500000   \n",
      "29              299.511429             299.635714   \n",
      "30              298.238571             298.264286   \n",
      "..                     ...                    ...   \n",
      "671             298.752857             299.035714   \n",
      "672             298.900000             299.042857   \n",
      "673             298.330000             298.407143   \n",
      "674             298.702857             298.771429   \n",
      "676             299.185714             299.400000   \n",
      "677             300.038571             300.207143   \n",
      "678             299.577143             299.728571   \n",
      "679             299.634286             299.707143   \n",
      "680             299.508571             299.685714   \n",
      "681             300.091429             300.335714   \n",
      "682             299.752857             299.842857   \n",
      "683             299.885714             300.014286   \n",
      "684             299.911429             300.142857   \n",
      "685             300.355714             300.500000   \n",
      "686             299.927143             299.957143   \n",
      "687             300.154286             300.342857   \n",
      "688             300.501429             300.485714   \n",
      "689             300.130000             300.300000   \n",
      "690             300.380000             300.571429   \n",
      "691             300.512857             300.578571   \n",
      "692             300.774286             300.792857   \n",
      "693             300.668571             300.728571   \n",
      "694             300.631429             300.750000   \n",
      "695             300.967143             301.228571   \n",
      "696             301.142857             301.400000   \n",
      "697             300.791429             300.914286   \n",
      "698             301.194286             301.407143   \n",
      "699             300.932857             301.100000   \n",
      "700             300.678571             300.828571   \n",
      "701             301.090000             301.157143   \n",
      "\n",
      "     reanalysis_dew_point_temp_k  reanalysis_max_air_temp_k  \\\n",
      "0                     292.414286                      299.8   \n",
      "1                     293.951429                      300.9   \n",
      "2                     295.434286                      300.5   \n",
      "3                     295.310000                      301.4   \n",
      "4                     295.821429                      301.9   \n",
      "5                     295.851429                      302.4   \n",
      "6                     295.865714                      301.3   \n",
      "7                     296.531429                      300.6   \n",
      "8                     296.378571                      302.1   \n",
      "9                     296.651429                      302.3   \n",
      "10                    296.041429                      301.8   \n",
      "11                    296.334286                      302.0   \n",
      "12                    295.960000                      301.8   \n",
      "13                    296.172857                      303.0   \n",
      "14                    296.532857                      302.5   \n",
      "15                    297.035714                      302.6   \n",
      "16                    296.728571                      302.5   \n",
      "17                    297.017143                      302.2   \n",
      "18                    296.117143                      303.8   \n",
      "19                    297.192857                      302.9   \n",
      "20                    296.431429                      301.7   \n",
      "21                    296.028571                      302.4   \n",
      "22                    296.664286                      303.3   \n",
      "23                    296.928571                      301.8   \n",
      "25                    296.257143                      300.9   \n",
      "26                    296.534286                      301.4   \n",
      "27                    296.564286                      302.2   \n",
      "28                    295.687143                      302.3   \n",
      "29                    295.375714                      301.6   \n",
      "30                    294.811429                      300.2   \n",
      "..                           ...                        ...   \n",
      "671                   293.801429                      301.6   \n",
      "672                   294.331429                      301.9   \n",
      "673                   294.542857                      301.1   \n",
      "674                   295.007143                      301.3   \n",
      "676                   295.447143                      302.3   \n",
      "677                   295.180000                      302.2   \n",
      "678                   294.601429                      301.5   \n",
      "679                   295.184286                      301.5   \n",
      "680                   296.017143                      301.8   \n",
      "681                   295.555714                      302.4   \n",
      "682                   295.397143                      301.6   \n",
      "683                   295.631429                      301.6   \n",
      "684                   296.352857                      301.9   \n",
      "685                   296.362857                      302.0   \n",
      "686                   296.100000                      301.8   \n",
      "687                   296.315714                      301.7   \n",
      "688                   296.292857                      302.6   \n",
      "689                   296.894286                      301.8   \n",
      "690                   296.790000                      302.1   \n",
      "691                   296.690000                      302.5   \n",
      "692                   296.611429                      302.8   \n",
      "693                   297.048571                      302.8   \n",
      "694                   297.418571                      302.7   \n",
      "695                   297.108571                      303.7   \n",
      "696                   296.775714                      304.3   \n",
      "697                   297.120000                      303.3   \n",
      "698                   297.267143                      303.5   \n",
      "699                   296.384286                      303.2   \n",
      "700                   296.940000                      302.9   \n",
      "701                   296.790000                      302.9   \n",
      "\n",
      "     reanalysis_min_air_temp_k  reanalysis_precip_amt_kg_per_m2 ...  m__4  \\\n",
      "0                        295.9                            32.00 ...     1   \n",
      "1                        296.4                            17.94 ...     0   \n",
      "2                        297.3                            26.10 ...     0   \n",
      "3                        297.0                            13.90 ...     0   \n",
      "4                        297.5                            12.20 ...     0   \n",
      "5                        298.1                            26.49 ...     0   \n",
      "6                        297.7                            38.60 ...     0   \n",
      "7                        298.4                            30.00 ...     0   \n",
      "8                        297.7                            37.51 ...     0   \n",
      "9                        298.7                            28.40 ...     0   \n",
      "10                       298.0                            43.72 ...     0   \n",
      "11                       297.3                            40.90 ...     0   \n",
      "12                       297.1                            42.53 ...     0   \n",
      "13                       298.3                            34.60 ...     0   \n",
      "14                       298.8                            20.00 ...     0   \n",
      "15                       298.5                           101.90 ...     0   \n",
      "16                       298.1                            25.90 ...     0   \n",
      "17                       298.7                            39.80 ...     0   \n",
      "18                       298.0                            30.40 ...     0   \n",
      "19                       299.0                            24.18 ...     0   \n",
      "20                       298.7                            36.60 ...     0   \n",
      "21                       299.1                            16.40 ...     0   \n",
      "22                       299.1                            36.10 ...     0   \n",
      "23                       298.1                           132.40 ...     0   \n",
      "25                       297.2                            94.52 ...     0   \n",
      "26                       298.5                            22.26 ...     0   \n",
      "27                       298.5                            14.40 ...     0   \n",
      "28                       298.8                             7.10 ...     0   \n",
      "29                       297.0                            36.70 ...     0   \n",
      "30                       296.5                            44.30 ...     0   \n",
      "..                         ...                              ... ...   ...   \n",
      "671                      296.3                             7.30 ...     0   \n",
      "672                      296.8                             7.50 ...     1   \n",
      "673                      296.1                            43.64 ...     1   \n",
      "674                      296.8                            23.50 ...     1   \n",
      "676                      296.8                            15.20 ...     1   \n",
      "677                      298.3                             1.50 ...     0   \n",
      "678                      297.7                             7.70 ...     0   \n",
      "679                      298.0                            13.76 ...     0   \n",
      "680                      297.0                            28.30 ...     0   \n",
      "681                      298.2                             1.60 ...     0   \n",
      "682                      297.8                            20.10 ...     0   \n",
      "683                      297.9                            21.81 ...     0   \n",
      "684                      298.5                            18.40 ...     0   \n",
      "685                      298.4                             5.80 ...     0   \n",
      "686                      298.1                            44.04 ...     0   \n",
      "687                      298.4                            21.90 ...     0   \n",
      "688                      298.2                            13.40 ...     0   \n",
      "689                      298.9                            46.90 ...     0   \n",
      "690                      298.8                            22.50 ...     0   \n",
      "691                      298.8                            29.10 ...     0   \n",
      "692                      298.9                            31.00 ...     0   \n",
      "693                      298.7                            50.86 ...     0   \n",
      "694                      298.7                            63.00 ...     0   \n",
      "695                      299.0                            12.50 ...     0   \n",
      "696                      298.8                            13.90 ...     0   \n",
      "697                      298.7                            26.59 ...     0   \n",
      "698                      299.5                            11.00 ...     0   \n",
      "699                      299.2                             6.30 ...     0   \n",
      "700                      298.3                            97.70 ...     0   \n",
      "701                      299.0                            10.70 ...     0   \n",
      "\n",
      "     m__5  m__6  m__7  m__8  m__9  m__10  m__11  m__12   y  \n",
      "0       0     0     0     0     0      0      0      0   4  \n",
      "1       1     0     0     0     0      0      0      0   5  \n",
      "2       1     0     0     0     0      0      0      0   4  \n",
      "3       1     0     0     0     0      0      0      0   3  \n",
      "4       1     0     0     0     0      0      0      0   6  \n",
      "5       0     1     0     0     0      0      0      0   2  \n",
      "6       0     1     0     0     0      0      0      0   4  \n",
      "7       0     1     0     0     0      0      0      0   5  \n",
      "8       0     1     0     0     0      0      0      0  10  \n",
      "9       0     0     1     0     0      0      0      0   6  \n",
      "10      0     0     1     0     0      0      0      0   8  \n",
      "11      0     0     1     0     0      0      0      0   2  \n",
      "12      0     0     1     0     0      0      0      0   6  \n",
      "13      0     0     1     0     0      0      0      0  17  \n",
      "14      0     0     0     1     0      0      0      0  23  \n",
      "15      0     0     0     1     0      0      0      0  13  \n",
      "16      0     0     0     1     0      0      0      0  21  \n",
      "17      0     0     0     1     0      0      0      0  28  \n",
      "18      0     0     0     0     1      0      0      0  24  \n",
      "19      0     0     0     0     1      0      0      0  20  \n",
      "20      0     0     0     0     1      0      0      0  40  \n",
      "21      0     0     0     0     1      0      0      0  27  \n",
      "22      0     0     0     0     0      1      0      0  42  \n",
      "23      0     0     0     0     0      1      0      0  33  \n",
      "25      0     0     0     0     0      1      0      0  37  \n",
      "26      0     0     0     0     0      1      0      0  57  \n",
      "27      0     0     0     0     0      0      1      0  71  \n",
      "28      0     0     0     0     0      0      1      0  44  \n",
      "29      0     0     0     0     0      0      1      0  56  \n",
      "30      0     0     0     0     0      0      1      0  53  \n",
      "..    ...   ...   ...   ...   ...    ...    ...    ...  ..  \n",
      "671     0     0     0     0     0      0      0      0  12  \n",
      "672     0     0     0     0     0      0      0      0   3  \n",
      "673     0     0     0     0     0      0      0      0   2  \n",
      "674     0     0     0     0     0      0      0      0   7  \n",
      "676     0     0     0     0     0      0      0      0   5  \n",
      "677     1     0     0     0     0      0      0      0   7  \n",
      "678     1     0     0     0     0      0      0      0   7  \n",
      "679     1     0     0     0     0      0      0      0   7  \n",
      "680     1     0     0     0     0      0      0      0   7  \n",
      "681     0     1     0     0     0      0      0      0  10  \n",
      "682     0     1     0     0     0      0      0      0  13  \n",
      "683     0     1     0     0     0      0      0      0  10  \n",
      "684     0     1     0     0     0      0      0      0  14  \n",
      "685     0     0     1     0     0      0      0      0  11  \n",
      "686     0     0     1     0     0      0      0      0  20  \n",
      "687     0     0     1     0     0      0      0      0  25  \n",
      "688     0     0     1     0     0      0      0      0  17  \n",
      "689     0     0     1     0     0      0      0      0  18  \n",
      "690     0     0     0     1     0      0      0      0  25  \n",
      "691     0     0     0     1     0      0      0      0  21  \n",
      "692     0     0     0     1     0      0      0      0  31  \n",
      "693     0     0     0     1     0      0      0      0  32  \n",
      "694     0     0     0     0     1      0      0      0  26  \n",
      "695     0     0     0     0     1      0      0      0  35  \n",
      "696     0     0     0     0     1      0      0      0  28  \n",
      "697     0     0     0     0     1      0      0      0  37  \n",
      "698     0     0     0     0     0      1      0      0  41  \n",
      "699     0     0     0     0     0      1      0      0  34  \n",
      "700     0     0     0     0     0      1      0      0  30  \n",
      "701     0     0     0     0     0      1      0      0  39  \n",
      "\n",
      "[697 rows x 32 columns]\n"
     ]
    }
   ],
   "source": [
    "train_sj = X_sj_train.copy()\n",
    "train_sj['y'] = Y_sj_train\n",
    "print train_sj"
   ]
  },
  {
   "cell_type": "code",
   "execution_count": 12,
   "metadata": {},
   "outputs": [
    {
     "name": "stdout",
     "output_type": "stream",
     "text": [
      "('cv error:', 23.214592274678111)\n",
      "('train error:', 25.572453371592541)\n"
     ]
    }
   ],
   "source": [
    "test_sj = X_sj_test.copy()\n",
    "\n",
    "model = smf.glm(formula=formula,\n",
    "                data=train_sj,\n",
    "                family=sm.families.NegativeBinomial())\n",
    "model = model.fit()\n",
    "\n",
    "predictions_sj = model.predict(test_sj).astype(int)\n",
    "print (\"cv error:\", mean_absolute_error(predictions_sj, Y_sj_test))\n",
    "\n",
    "pred_train_sj = model.predict(train_sj).astype(int)\n",
    "print (\"train error:\", mean_absolute_error(pred_train_sj, Y_sj_train))"
   ]
  },
  {
   "cell_type": "code",
   "execution_count": 13,
   "metadata": {
    "collapsed": true
   },
   "outputs": [],
   "source": [
    "X2 = pd.read_csv(\"./dengue_features_test.csv\")\n",
    "testSJ,testIQ = testProcess(X2,y)"
   ]
  },
  {
   "cell_type": "code",
   "execution_count": 14,
   "metadata": {},
   "outputs": [
    {
     "name": "stdout",
     "output_type": "stream",
     "text": [
      "(260, 31)\n"
     ]
    }
   ],
   "source": [
    "print(testSJ.shape)"
   ]
  },
  {
   "cell_type": "code",
   "execution_count": 15,
   "metadata": {
    "collapsed": true
   },
   "outputs": [],
   "source": [
    "predictions_sj_test = model.predict(testSJ).astype(int)\n",
    "predictions_sj_test = predictions_sj_test-2"
   ]
  },
  {
   "cell_type": "code",
   "execution_count": 16,
   "metadata": {
    "collapsed": true
   },
   "outputs": [],
   "source": [
    "\n",
    "predictions_sj_test.to_csv('./resultSJ.csv',  index = False)"
   ]
  },
  {
   "cell_type": "code",
   "execution_count": 17,
   "metadata": {},
   "outputs": [
    {
     "name": "stdout",
     "output_type": "stream",
     "text": [
      "('cv error:', 8.0546875)\n",
      "('train error:', 5.4778067885117494)\n"
     ]
    }
   ],
   "source": [
    "train_iq = X_iq_train.copy()\n",
    "train_iq['y'] = Y_iq_train\n",
    "test_iq = X_iq_test.copy()\n",
    "\n",
    "modelIQ = smf.glm(formula=formula,\n",
    "                data=train_iq,\n",
    "                family=sm.families.NegativeBinomial())\n",
    "modelIQ = modelIQ.fit()\n",
    "\n",
    "predictions_iq = modelIQ.predict(test_iq).astype(int)\n",
    "print (\"cv error:\", mean_absolute_error(predictions_iq, Y_iq_test))\n",
    "\n",
    "pred_train_iq = modelIQ.predict(train_iq).astype(int)\n",
    "print (\"train error:\", mean_absolute_error(pred_train_iq, Y_iq_train))"
   ]
  },
  {
   "cell_type": "code",
   "execution_count": 18,
   "metadata": {},
   "outputs": [
    {
     "name": "stdout",
     "output_type": "stream",
     "text": [
      "260     3\n",
      "261     2\n",
      "262     9\n",
      "263     3\n",
      "264     1\n",
      "265     1\n",
      "266     1\n",
      "267     1\n",
      "268     1\n",
      "269     3\n",
      "270     5\n",
      "271     3\n",
      "272     1\n",
      "273     2\n",
      "274     0\n",
      "275     3\n",
      "276     1\n",
      "277    11\n",
      "278    10\n",
      "279     2\n",
      "280     2\n",
      "281    10\n",
      "282    17\n",
      "283    10\n",
      "284    10\n",
      "285     5\n",
      "286     3\n",
      "287     5\n",
      "288     5\n",
      "289     8\n",
      "       ..\n",
      "386    27\n",
      "387    18\n",
      "388    19\n",
      "389    29\n",
      "390    15\n",
      "391     3\n",
      "392     6\n",
      "393    10\n",
      "394     6\n",
      "395    10\n",
      "396     4\n",
      "397     8\n",
      "398     8\n",
      "399     8\n",
      "400     8\n",
      "401    13\n",
      "402     6\n",
      "403     3\n",
      "404     4\n",
      "405     6\n",
      "406     8\n",
      "407     1\n",
      "408     6\n",
      "409     5\n",
      "410     2\n",
      "411     5\n",
      "412     5\n",
      "413     3\n",
      "414     0\n",
      "415     1\n",
      "Length: 156, dtype: int64\n"
     ]
    }
   ],
   "source": [
    "predictions_iq_test = modelIQ.predict(testIQ).astype(int)\n",
    "predictions_iq_test = predictions_iq_test-1\n",
    "print(predictions_iq_test)\n",
    "predictions_iq_test.to_csv('./resultIQ.csv',  index = False)"
   ]
  },
  {
   "cell_type": "code",
   "execution_count": 19,
   "metadata": {
    "collapsed": true
   },
   "outputs": [],
   "source": [
    "# submission\n",
    "submission_format = pd.read_csv('./submission_format.csv')\n",
    "total_preds = list(predictions_sj_test) + list(predictions_iq_test)\n",
    "submission_format['total_cases'] = total_preds\n",
    "\n",
    "submission_format['total_cases'] = submission_format['total_cases'].apply(lambda x: int(x))\n",
    "submission_format.to_csv('./by_model1_27_1_05_18v2.csv', index=False)"
   ]
  },
  {
   "cell_type": "code",
   "execution_count": 20,
   "metadata": {},
   "outputs": [
    {
     "name": "stdout",
     "output_type": "stream",
     "text": [
      "('cv error:', 17.8393351800554)\n",
      "('train error:', 18.446296296296296)\n"
     ]
    }
   ],
   "source": [
    "pred = predictions_iq.append(predictions_sj)\n",
    "true = Y_iq_test.append(Y_sj_test)\n",
    "print (\"cv error:\", mean_absolute_error(pred, true))\n",
    "\n",
    "train_pred = pred_train_iq.append(pred_train_sj)\n",
    "train_true = Y_iq_train.append(Y_sj_train)\n",
    "print (\"train error:\", mean_absolute_error(train_pred, train_true))"
   ]
  },
  {
   "cell_type": "code",
   "execution_count": null,
   "metadata": {
    "collapsed": true
   },
   "outputs": [],
   "source": [
    "\n"
   ]
  }
 ],
 "metadata": {
  "kernelspec": {
   "display_name": "Python 2",
   "language": "python",
   "name": "python2"
  },
  "language_info": {
   "codemirror_mode": {
    "name": "ipython",
    "version": 2
   },
   "file_extension": ".py",
   "mimetype": "text/x-python",
   "name": "python",
   "nbconvert_exporter": "python",
   "pygments_lexer": "ipython2",
   "version": "2.7.14"
  }
 },
 "nbformat": 4,
 "nbformat_minor": 2
}
