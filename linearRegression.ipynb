{
 "cells": [
  {
   "cell_type": "code",
   "execution_count": 1,
   "metadata": {
    "collapsed": true
   },
   "outputs": [],
   "source": [
    "import pandas as pd\n",
    "import numpy as np\n",
    "\n",
    "import matplotlib.pyplot as plt\n",
    "import seaborn as sns\n",
    "%matplotlib inline\n",
    "plt.style.use('bmh')\n",
    "\n",
    "from sklearn.preprocessing import StandardScaler\n",
    "from sklearn.linear_model import LinearRegression, LogisticRegression\n",
    "from sklearn.ensemble import RandomForestRegressor, RandomForestClassifier\n",
    "from sklearn.model_selection import GridSearchCV\n",
    "\n",
    "from sklearn.metrics import mean_absolute_error"
   ]
  },
  {
   "cell_type": "code",
   "execution_count": 2,
   "metadata": {
    "collapsed": true
   },
   "outputs": [],
   "source": [
    "# read in pickled features\n",
    "df_sj = pd.read_pickle('./datasets/all_sj.pkl')\n",
    "df_iq = pd.read_pickle('./datasets/all_iq.pkl')"
   ]
  },
  {
   "cell_type": "code",
   "execution_count": 3,
   "metadata": {
    "collapsed": true
   },
   "outputs": [],
   "source": [
    "total_cases = pd.read_csv('./datasets/dengue_labels_train.csv')"
   ]
  },
  {
   "cell_type": "code",
   "execution_count": 4,
   "metadata": {
    "collapsed": true
   },
   "outputs": [],
   "source": [
    "cases_sj = total_cases[total_cases['city'] == 'sj']['total_cases']\n",
    "cases_iq = total_cases[total_cases['city'] == 'iq']['total_cases']"
   ]
  },
  {
   "cell_type": "code",
   "execution_count": 5,
   "metadata": {
    "collapsed": true
   },
   "outputs": [],
   "source": [
    "# create month variable\n",
    "df_sj['month'] = df_sj.index.month\n",
    "df_iq['month'] = df_iq.index.month\n",
    "\n",
    "#all the dataset is loaded at once to improve the mean below.\n",
    "# create mean ndvi\n",
    "df_sj['ndvi_mean'] = (df_sj['ndvi_ne'] + df_sj['ndvi_nw'] + df_sj['ndvi_se'] + df_sj['ndvi_sw']) / 4.0\n",
    "\n",
    "df_iq['ndvi_mean'] = (df_iq['ndvi_ne'] + df_iq['ndvi_nw'] + df_iq['ndvi_se'] + df_iq['ndvi_sw']) / 4.0\n",
    "Xtrain_means1 = df_sj['station_avg_temp_c'].rolling(window = 52).mean()[52:936]\n",
    "Xtrain_means2 = df_sj['reanalysis_specific_humidity_g_per_kg'].rolling(window = 52).mean()[52:936]\n",
    "Xtrain_means3 = df_sj['reanalysis_dew_point_temp_k'].rolling(window = 52).mean()[52:936]\n",
    "Xtrain_means4 = df_sj['reanalysis_max_air_temp_k'].rolling(window = 25).mean()[52:936]\n",
    "Xtrain_means5 = df_sj['station_max_temp_c'].rolling(window = 25).mean()[52:936]\n",
    "Xtrain_means6 = df_sj['reanalysis_min_air_temp_k'].rolling(window = 25).mean()[52:936]\n"
   ]
  },
  {
   "cell_type": "code",
   "execution_count": 6,
   "metadata": {
    "collapsed": true
   },
   "outputs": [],
   "source": [
    "# get monthly trend of whole test df\n",
    "lr_sj_month = LinearRegression()\n",
    "X_months = pd.get_dummies(df_sj['month'], prefix='month')[52:936]\n",
    "X_months = pd.concat([X_months], axis = 1)"
   ]
  },
  {
   "cell_type": "code",
   "execution_count": 7,
   "metadata": {
    "collapsed": true
   },
   "outputs": [],
   "source": [
    "Xtest_months = pd.get_dummies(df_sj['month'], prefix='month')[936:]\n",
    "Xtest_means1 = df_sj['station_avg_temp_c'].rolling(window = 52).mean()[936:]\n",
    "Xtest_means2 = df_sj['reanalysis_specific_humidity_g_per_kg'].rolling(window = 52).mean()[936:]\n",
    "Xtest_means3 = df_sj['reanalysis_dew_point_temp_k'].rolling(window = 52).mean()[936:]\n",
    "Xtest_means4 = df_sj['reanalysis_max_air_temp_k'].rolling(window = 25).mean()[936:]\n",
    "Xtest_means5 = df_sj['station_max_temp_c'].rolling(window = 52).mean()[936:]\n",
    "Xtest_means6 = df_sj['reanalysis_min_air_temp_k'].rolling(window = 25).mean()[936:]\n",
    "Xtest_months = pd.concat([Xtest_months], axis = 1)\n"
   ]
  },
  {
   "cell_type": "code",
   "execution_count": 8,
   "metadata": {},
   "outputs": [
    {
     "ename": "ValueError",
     "evalue": "Found input variables with inconsistent numbers of samples: [884, 936]",
     "output_type": "error",
     "traceback": [
      "\u001b[0;31m---------------------------------------------------------------------------\u001b[0m",
      "\u001b[0;31mValueError\u001b[0m                                Traceback (most recent call last)",
      "\u001b[0;32m<ipython-input-8-1834c83dd642>\u001b[0m in \u001b[0;36m<module>\u001b[0;34m()\u001b[0m\n\u001b[1;32m      1\u001b[0m \u001b[0my\u001b[0m \u001b[0;34m=\u001b[0m \u001b[0mcases_sj\u001b[0m\u001b[0;34m.\u001b[0m\u001b[0mvalues\u001b[0m\u001b[0;34m\u001b[0m\u001b[0m\n\u001b[1;32m      2\u001b[0m \u001b[0;34m\u001b[0m\u001b[0m\n\u001b[0;32m----> 3\u001b[0;31m \u001b[0mlr_sj_month\u001b[0m\u001b[0;34m.\u001b[0m\u001b[0mfit\u001b[0m\u001b[0;34m(\u001b[0m\u001b[0mX_months\u001b[0m\u001b[0;34m,\u001b[0m \u001b[0my\u001b[0m\u001b[0;34m)\u001b[0m\u001b[0;34m\u001b[0m\u001b[0m\n\u001b[0m\u001b[1;32m      4\u001b[0m \u001b[0mmonthly_trend\u001b[0m \u001b[0;34m=\u001b[0m \u001b[0mpd\u001b[0m\u001b[0;34m.\u001b[0m\u001b[0mSeries\u001b[0m\u001b[0;34m(\u001b[0m\u001b[0mlr_sj_month\u001b[0m\u001b[0;34m.\u001b[0m\u001b[0mpredict\u001b[0m\u001b[0;34m(\u001b[0m\u001b[0mX_months\u001b[0m\u001b[0;34m)\u001b[0m\u001b[0;34m)\u001b[0m\u001b[0;34m.\u001b[0m\u001b[0mrolling\u001b[0m\u001b[0;34m(\u001b[0m\u001b[0;36m3\u001b[0m\u001b[0;34m,\u001b[0m \u001b[0mmin_periods\u001b[0m\u001b[0;34m=\u001b[0m\u001b[0;36m1\u001b[0m\u001b[0;34m)\u001b[0m\u001b[0;34m.\u001b[0m\u001b[0mmean\u001b[0m\u001b[0;34m(\u001b[0m\u001b[0;34m)\u001b[0m\u001b[0;34m\u001b[0m\u001b[0m\n",
      "\u001b[0;32m/home/dileka/anaconda2/lib/python2.7/site-packages/sklearn/linear_model/base.pyc\u001b[0m in \u001b[0;36mfit\u001b[0;34m(self, X, y, sample_weight)\u001b[0m\n\u001b[1;32m    480\u001b[0m         \u001b[0mn_jobs_\u001b[0m \u001b[0;34m=\u001b[0m \u001b[0mself\u001b[0m\u001b[0;34m.\u001b[0m\u001b[0mn_jobs\u001b[0m\u001b[0;34m\u001b[0m\u001b[0m\n\u001b[1;32m    481\u001b[0m         X, y = check_X_y(X, y, accept_sparse=['csr', 'csc', 'coo'],\n\u001b[0;32m--> 482\u001b[0;31m                          y_numeric=True, multi_output=True)\n\u001b[0m\u001b[1;32m    483\u001b[0m \u001b[0;34m\u001b[0m\u001b[0m\n\u001b[1;32m    484\u001b[0m         \u001b[0;32mif\u001b[0m \u001b[0msample_weight\u001b[0m \u001b[0;32mis\u001b[0m \u001b[0;32mnot\u001b[0m \u001b[0mNone\u001b[0m \u001b[0;32mand\u001b[0m \u001b[0mnp\u001b[0m\u001b[0;34m.\u001b[0m\u001b[0matleast_1d\u001b[0m\u001b[0;34m(\u001b[0m\u001b[0msample_weight\u001b[0m\u001b[0;34m)\u001b[0m\u001b[0;34m.\u001b[0m\u001b[0mndim\u001b[0m \u001b[0;34m>\u001b[0m \u001b[0;36m1\u001b[0m\u001b[0;34m:\u001b[0m\u001b[0;34m\u001b[0m\u001b[0m\n",
      "\u001b[0;32m/home/dileka/anaconda2/lib/python2.7/site-packages/sklearn/utils/validation.pyc\u001b[0m in \u001b[0;36mcheck_X_y\u001b[0;34m(X, y, accept_sparse, dtype, order, copy, force_all_finite, ensure_2d, allow_nd, multi_output, ensure_min_samples, ensure_min_features, y_numeric, warn_on_dtype, estimator)\u001b[0m\n\u001b[1;32m    581\u001b[0m         \u001b[0my\u001b[0m \u001b[0;34m=\u001b[0m \u001b[0my\u001b[0m\u001b[0;34m.\u001b[0m\u001b[0mastype\u001b[0m\u001b[0;34m(\u001b[0m\u001b[0mnp\u001b[0m\u001b[0;34m.\u001b[0m\u001b[0mfloat64\u001b[0m\u001b[0;34m)\u001b[0m\u001b[0;34m\u001b[0m\u001b[0m\n\u001b[1;32m    582\u001b[0m \u001b[0;34m\u001b[0m\u001b[0m\n\u001b[0;32m--> 583\u001b[0;31m     \u001b[0mcheck_consistent_length\u001b[0m\u001b[0;34m(\u001b[0m\u001b[0mX\u001b[0m\u001b[0;34m,\u001b[0m \u001b[0my\u001b[0m\u001b[0;34m)\u001b[0m\u001b[0;34m\u001b[0m\u001b[0m\n\u001b[0m\u001b[1;32m    584\u001b[0m \u001b[0;34m\u001b[0m\u001b[0m\n\u001b[1;32m    585\u001b[0m     \u001b[0;32mreturn\u001b[0m \u001b[0mX\u001b[0m\u001b[0;34m,\u001b[0m \u001b[0my\u001b[0m\u001b[0;34m\u001b[0m\u001b[0m\n",
      "\u001b[0;32m/home/dileka/anaconda2/lib/python2.7/site-packages/sklearn/utils/validation.pyc\u001b[0m in \u001b[0;36mcheck_consistent_length\u001b[0;34m(*arrays)\u001b[0m\n\u001b[1;32m    202\u001b[0m     \u001b[0;32mif\u001b[0m \u001b[0mlen\u001b[0m\u001b[0;34m(\u001b[0m\u001b[0muniques\u001b[0m\u001b[0;34m)\u001b[0m \u001b[0;34m>\u001b[0m \u001b[0;36m1\u001b[0m\u001b[0;34m:\u001b[0m\u001b[0;34m\u001b[0m\u001b[0m\n\u001b[1;32m    203\u001b[0m         raise ValueError(\"Found input variables with inconsistent numbers of\"\n\u001b[0;32m--> 204\u001b[0;31m                          \" samples: %r\" % [int(l) for l in lengths])\n\u001b[0m\u001b[1;32m    205\u001b[0m \u001b[0;34m\u001b[0m\u001b[0m\n\u001b[1;32m    206\u001b[0m \u001b[0;34m\u001b[0m\u001b[0m\n",
      "\u001b[0;31mValueError\u001b[0m: Found input variables with inconsistent numbers of samples: [884, 936]"
     ]
    }
   ],
   "source": [
    "y = cases_sj.values\n",
    "\n",
    "lr_sj_month.fit(X_months, y)\n",
    "monthly_trend = pd.Series(lr_sj_month.predict(X_months)).rolling(3, min_periods=1).mean()"
   ]
  },
  {
   "cell_type": "code",
   "execution_count": 185,
   "metadata": {
    "collapsed": true
   },
   "outputs": [],
   "source": [
    "sj_residuals_all = y - monthly_trend"
   ]
  },
  {
   "cell_type": "code",
   "execution_count": 186,
   "metadata": {
    "collapsed": true
   },
   "outputs": [],
   "source": [
    "\n",
    "#print(Xtrain_means2)\n",
    "\n",
    "# create test df of rolling weather stats\n",
    "# rolling means df"
   ]
  },
  {
   "cell_type": "code",
   "execution_count": 187,
   "metadata": {
    "collapsed": true
   },
   "outputs": [],
   "source": [
    "# combine all dfs"
   ]
  },
  {
   "cell_type": "code",
   "execution_count": 188,
   "metadata": {
    "collapsed": true
   },
   "outputs": [],
   "source": [
    "scaler = StandardScaler()\n",
    "#Xtrain[Xtrain.columns] = scaler.fit_transform(Xtrain)"
   ]
  },
  {
   "cell_type": "code",
   "execution_count": 189,
   "metadata": {
    "collapsed": true
   },
   "outputs": [],
   "source": [
    "ytrain = sj_residuals_all\n",
    "Xtrain = pd.concat([Xtrain_means1,Xtrain_means2,Xtrain_means3,Xtrain_means4], axis = 1)\n",
    "Xtest_weather = pd.concat([Xtest_means1,Xtest_means2,Xtest_means3,Xtest_means4], axis = 1)\n"
   ]
  },
  {
   "cell_type": "code",
   "execution_count": 190,
   "metadata": {
    "collapsed": true
   },
   "outputs": [],
   "source": [
    "# combine all dfs\n",
    "\n",
    "\n",
    "#Xtest_weather[Xtest_weather.columns] = scaler.fit_transform(Xtest_weather)\n"
   ]
  },
  {
   "cell_type": "code",
   "execution_count": 191,
   "metadata": {},
   "outputs": [
    {
     "data": {
      "text/plain": [
       "LinearRegression(copy_X=True, fit_intercept=True, n_jobs=1, normalize=False)"
      ]
     },
     "execution_count": 191,
     "metadata": {},
     "output_type": "execute_result"
    }
   ],
   "source": [
    "# fit on model\n",
    "lr_sj_resid = LinearRegression()\n",
    "lr_sj_resid.fit(Xtrain, ytrain)"
   ]
  },
  {
   "cell_type": "code",
   "execution_count": 192,
   "metadata": {
    "collapsed": true
   },
   "outputs": [],
   "source": [
    "# make predictions on monthly data and residual data\n",
    "sj_monthly_preds = pd.Series(lr_sj_month.predict(Xtest_months)).rolling(3, min_periods=1).mean()"
   ]
  },
  {
   "cell_type": "code",
   "execution_count": 193,
   "metadata": {
    "collapsed": true
   },
   "outputs": [],
   "source": [
    "sj_resid_preds = lr_sj_resid.predict(Xtest_weather)"
   ]
  },
  {
   "cell_type": "code",
   "execution_count": 194,
   "metadata": {
    "collapsed": true
   },
   "outputs": [],
   "source": [
    "sj_cases_pred = pd.Series(sj_resid_preds + sj_monthly_preds).rolling(1, min_periods=1).mean()\n",
    "sj_cases_pred = sj_cases_pred.apply(lambda x: 0 if x < 1 else int(x))"
   ]
  },
  {
   "cell_type": "code",
   "execution_count": 195,
   "metadata": {},
   "outputs": [
    {
     "data": {
      "text/plain": [
       "[<matplotlib.lines.Line2D at 0x7f80b7705bd0>]"
      ]
     },
     "execution_count": 195,
     "metadata": {},
     "output_type": "execute_result"
    },
    {
     "data": {
      "image/png": "[encoded data removed]",
      "text/plain": [
       "<matplotlib.figure.Figure at 0x7f80b778e1d0>"
      ]
     },
     "metadata": {},
     "output_type": "display_data"
    }
   ],
   "source": [
    "plt.plot(sj_resid_preds)\n",
    "plt.plot(sj_monthly_preds)\n",
    "plt.plot(sj_cases_pred)"
   ]
  },
  {
   "cell_type": "code",
   "execution_count": 196,
   "metadata": {
    "collapsed": true
   },
   "outputs": [],
   "source": [
    "# get monthly trend of whole test df\n",
    "lr_iq_month = LinearRegression()\n",
    "X_months = pd.get_dummies(df_iq['month'], prefix='month')[52:520]\n",
    "Xtrain_means1 = df_iq['reanalysis_specific_humidity_g_per_kg'].rolling(window = 52).mean()[52:520]\n",
    "Xtrain_means2 = df_iq['reanalysis_dew_point_temp_k'].rolling(window = 52).mean()[52:520]\n",
    "Xtrain_means3 = df_iq['reanalysis_min_air_temp_k'].rolling(window = 52).mean()[52:520]\n",
    "Xtrain_means4 = df_iq['reanalysis_relative_humidity_percent'].rolling(window = 52).mean()[52:520]\n",
    "Xtrain_means5 = df_iq['reanalysis_tdtr_k'].rolling(window = 52).mean()[52:520]\n",
    "X_months = pd.concat([X_months], axis = 1)"
   ]
  },
  {
   "cell_type": "code",
   "execution_count": 197,
   "metadata": {
    "collapsed": true
   },
   "outputs": [],
   "source": [
    "Xtest_months = pd.get_dummies(df_iq['month'], prefix='month')[520:]\n",
    "# create test df on rolling weather stats\n",
    "# rolling means df\n",
    "#Xtest_means1 = df_iq['station_avg_temp_c'].rolling(window = 52).mean()[520:]\n",
    "Xtest_means1 = df_iq['reanalysis_specific_humidity_g_per_kg'].rolling(window =52).mean()[520:]\n",
    "Xtest_means2 = df_iq['reanalysis_dew_point_temp_k'].rolling(window =52).mean()[520:]\n",
    "Xtest_means3 = df_iq['reanalysis_min_air_temp_k'].rolling(window =52).mean()[520:]\n",
    "Xtest_means4 = df_iq['reanalysis_relative_humidity_percent'].rolling(window =52).mean()[520:]\n",
    "Xtest_means5 = df_iq['reanalysis_tdtr_k'].rolling(window =52).mean()[520:]\n",
    "#Xtest_means4 = df_iq['reanalysis_max_air_temp_k'].rolling(window =52).mean()[520:]\n",
    "#Xtest_means5 = df_iq['station_max_temp_c'].rolling(window = 52).mean()[520:]\n",
    "# combine all dfs\n",
    "Xtest_months = pd.concat([Xtest_months], axis = 1)\n",
    "#Xtest_weather[Xtest_weather.columns] = scaler.fit_transform(Xtest_weather)"
   ]
  },
  {
   "cell_type": "code",
   "execution_count": 198,
   "metadata": {
    "collapsed": true
   },
   "outputs": [],
   "source": [
    "y = cases_iq.values\n",
    "y = y[52:]\n",
    "\n",
    "lr_iq_month.fit(X_months, y)\n",
    "monthly_trend = pd.Series(lr_iq_month.predict(X_months)).rolling(8, min_periods=1).mean()\n",
    "iq_residuals_all = y - monthly_trend"
   ]
  },
  {
   "cell_type": "code",
   "execution_count": 199,
   "metadata": {
    "collapsed": true
   },
   "outputs": [],
   "source": [
    "# create test df of rolling weather stats\n",
    "# rolling means df\n",
    "#Xtrain_means1 = df_iq['station_avg_temp_c'].rolling(window = 52).mean()[52:520]\n",
    "\n",
    "#Xtrain_means4 = df_iq['reanalysis_max_air_temp_k'].rolling(window = 52).mean()[52:520]\n",
    "#Xtrain_means5 = df_iq['station_max_temp_c'].rolling(window = 52).mean()[52:520]\n",
    "\n",
    "# combine all dfs\n",
    "\n",
    "\n",
    "#Xtrain[Xtrain.columns] = scaler.fit_transform(Xtrain)\n",
    "\n",
    "ytrain = iq_residuals_all"
   ]
  },
  {
   "cell_type": "code",
   "execution_count": 200,
   "metadata": {},
   "outputs": [
    {
     "data": {
      "text/plain": [
       "LinearRegression(copy_X=True, fit_intercept=True, n_jobs=1, normalize=False)"
      ]
     },
     "execution_count": 200,
     "metadata": {},
     "output_type": "execute_result"
    }
   ],
   "source": [
    "# fit on model\n",
    "Xtrain = pd.concat([Xtrain_means1,Xtrain_means2,Xtrain_means3], axis = 1)\n",
    "lr_iq_resid = LinearRegression()\n",
    "lr_iq_resid.fit(Xtrain, ytrain)"
   ]
  },
  {
   "cell_type": "code",
   "execution_count": 201,
   "metadata": {
    "collapsed": true
   },
   "outputs": [],
   "source": [
    "Xtest_weather = pd.concat([Xtest_means1,Xtest_means2,Xtest_means3], axis = 1)"
   ]
  },
  {
   "cell_type": "code",
   "execution_count": 202,
   "metadata": {},
   "outputs": [
    {
     "data": {
      "text/plain": [
       "0     0\n",
       "1     0\n",
       "2     0\n",
       "3     0\n",
       "4     0\n",
       "5     0\n",
       "6     0\n",
       "7     0\n",
       "8     0\n",
       "9     0\n",
       "10    0\n",
       "11    0\n",
       "12    0\n",
       "13    0\n",
       "14    0\n",
       "15    2\n",
       "16    3\n",
       "17    3\n",
       "18    4\n",
       "19    4\n",
       "dtype: int64"
      ]
     },
     "execution_count": 202,
     "metadata": {},
     "output_type": "execute_result"
    }
   ],
   "source": [
    "# make predictions on monthly data and residual data\n",
    "iq_monthly_preds = pd.Series(lr_iq_month.predict(Xtest_months)).rolling(8, min_periods=1).mean()\n",
    "iq_resid_preds = lr_iq_resid.predict(Xtest_weather)\n",
    "iq_cases_pred = pd.Series(iq_monthly_preds + iq_resid_preds)\n",
    "iq_cases_pred = iq_cases_pred.apply(lambda x: 0 if x < 2 else int(x))\n",
    "iq_cases_pred = iq_cases_pred.apply(lambda x: (x) if x > 30 else x)\n",
    "iq_cases_pred = iq_cases_pred.apply(lambda x: (x) if x > 50 else x)\n",
    "iq_cases_pred.head(20)"
   ]
  },
  {
   "cell_type": "code",
   "execution_count": 203,
   "metadata": {},
   "outputs": [
    {
     "data": {
      "text/plain": [
       "[<matplotlib.lines.Line2D at 0x7f80b766b550>]"
      ]
     },
     "execution_count": 203,
     "metadata": {},
     "output_type": "execute_result"
    },
    {
     "data": {
      "image/png": "[encoded data removed]",
      "text/plain": [
       "<matplotlib.figure.Figure at 0x7f80b77b9910>"
      ]
     },
     "metadata": {},
     "output_type": "display_data"
    }
   ],
   "source": [
    "plt.plot(iq_resid_preds)\n",
    "plt.plot(iq_monthly_preds)\n",
    "plt.plot(iq_cases_pred)"
   ]
  },
  {
   "cell_type": "code",
   "execution_count": 204,
   "metadata": {
    "collapsed": true
   },
   "outputs": [],
   "source": [
    "total_preds = list(sj_cases_pred) + list(iq_cases_pred)"
   ]
  },
  {
   "cell_type": "code",
   "execution_count": 205,
   "metadata": {
    "collapsed": true
   },
   "outputs": [],
   "source": [
    "# submission\n",
    "submission_format = pd.read_csv('./datasets/submission_format.csv')"
   ]
  },
  {
   "cell_type": "code",
   "execution_count": 206,
   "metadata": {
    "collapsed": true
   },
   "outputs": [],
   "source": [
    "submission_format['total_cases'] = total_preds\n",
    "\n",
    "submission_format['total_cases'] = submission_format['total_cases'].apply(lambda x: int(x))\n",
    "submission_format_only_cases = submission_format['total_cases']"
   ]
  },
  {
   "cell_type": "code",
   "execution_count": 207,
   "metadata": {
    "collapsed": true
   },
   "outputs": [],
   "source": [
    "# Save to CSV, use current date\n",
    "submission_format.to_csv('submissions/try_choice23.csv', index=False)\n",
    "submission_format_only_cases.to_csv('submissions/only_cases_27_1_05_18v2.csv', index=False)"
   ]
  },
  {
   "cell_type": "code",
   "execution_count": 208,
   "metadata": {},
   "outputs": [
    {
     "data": {
      "text/html": [
       "<div>\n",
       "<style>\n",
       "    .dataframe thead tr:only-child th {\n",
       "        text-align: right;\n",
       "    }\n",
       "\n",
       "    .dataframe thead th {\n",
       "        text-align: left;\n",
       "    }\n",
       "\n",
       "    .dataframe tbody tr th {\n",
       "        vertical-align: top;\n",
       "    }\n",
       "</style>\n",
       "<table border=\"1\" class=\"dataframe\">\n",
       "  <thead>\n",
       "    <tr style=\"text-align: right;\">\n",
       "      <th></th>\n",
       "      <th>city</th>\n",
       "      <th>year</th>\n",
       "      <th>weekofyear</th>\n",
       "      <th>total_cases</th>\n",
       "    </tr>\n",
       "  </thead>\n",
       "  <tbody>\n",
       "    <tr>\n",
       "      <th>0</th>\n",
       "      <td>sj</td>\n",
       "      <td>2008</td>\n",
       "      <td>18</td>\n",
       "      <td>12</td>\n",
       "    </tr>\n",
       "    <tr>\n",
       "      <th>1</th>\n",
       "      <td>sj</td>\n",
       "      <td>2008</td>\n",
       "      <td>19</td>\n",
       "      <td>13</td>\n",
       "    </tr>\n",
       "    <tr>\n",
       "      <th>2</th>\n",
       "      <td>sj</td>\n",
       "      <td>2008</td>\n",
       "      <td>20</td>\n",
       "      <td>13</td>\n",
       "    </tr>\n",
       "    <tr>\n",
       "      <th>3</th>\n",
       "      <td>sj</td>\n",
       "      <td>2008</td>\n",
       "      <td>21</td>\n",
       "      <td>13</td>\n",
       "    </tr>\n",
       "    <tr>\n",
       "      <th>4</th>\n",
       "      <td>sj</td>\n",
       "      <td>2008</td>\n",
       "      <td>22</td>\n",
       "      <td>13</td>\n",
       "    </tr>\n",
       "    <tr>\n",
       "      <th>5</th>\n",
       "      <td>sj</td>\n",
       "      <td>2008</td>\n",
       "      <td>23</td>\n",
       "      <td>14</td>\n",
       "    </tr>\n",
       "    <tr>\n",
       "      <th>6</th>\n",
       "      <td>sj</td>\n",
       "      <td>2008</td>\n",
       "      <td>24</td>\n",
       "      <td>15</td>\n",
       "    </tr>\n",
       "    <tr>\n",
       "      <th>7</th>\n",
       "      <td>sj</td>\n",
       "      <td>2008</td>\n",
       "      <td>25</td>\n",
       "      <td>16</td>\n",
       "    </tr>\n",
       "    <tr>\n",
       "      <th>8</th>\n",
       "      <td>sj</td>\n",
       "      <td>2008</td>\n",
       "      <td>26</td>\n",
       "      <td>15</td>\n",
       "    </tr>\n",
       "    <tr>\n",
       "      <th>9</th>\n",
       "      <td>sj</td>\n",
       "      <td>2008</td>\n",
       "      <td>27</td>\n",
       "      <td>18</td>\n",
       "    </tr>\n",
       "  </tbody>\n",
       "</table>\n",
       "</div>"
      ],
      "text/plain": [
       "  city  year  weekofyear  total_cases\n",
       "0   sj  2008          18           12\n",
       "1   sj  2008          19           13\n",
       "2   sj  2008          20           13\n",
       "3   sj  2008          21           13\n",
       "4   sj  2008          22           13\n",
       "5   sj  2008          23           14\n",
       "6   sj  2008          24           15\n",
       "7   sj  2008          25           16\n",
       "8   sj  2008          26           15\n",
       "9   sj  2008          27           18"
      ]
     },
     "execution_count": 208,
     "metadata": {},
     "output_type": "execute_result"
    }
   ],
   "source": [
    "submission_format.head(10)"
   ]
  },
  {
   "cell_type": "code",
   "execution_count": null,
   "metadata": {
    "collapsed": true
   },
   "outputs": [],
   "source": []
  }
 ],
 "metadata": {
  "kernelspec": {
   "display_name": "Python 2",
   "language": "python",
   "name": "python2"
  },
  "language_info": {
   "codemirror_mode": {
    "name": "ipython",
    "version": 2
   },
   "file_extension": ".py",
   "mimetype": "text/x-python",
   "name": "python",
   "nbconvert_exporter": "python",
   "pygments_lexer": "ipython2",
   "version": "2.7.14"
  }
 },
 "nbformat": 4,
 "nbformat_minor": 2
}
